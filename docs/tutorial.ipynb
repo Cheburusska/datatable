{
 "cells": [
  {
   "cell_type": "code",
   "execution_count": 2,
   "metadata": {},
   "outputs": [
    {
     "name": "stdout",
     "output_type": "stream",
     "text": [
      "[TerminalIPythonApp] WARNING | Subcommand `ipython nbconvert` is deprecated and will be removed in future versions.\n",
      "[TerminalIPythonApp] WARNING | You likely want to use `jupyter nbconvert` in the future\n",
      "[NbConvertApp] Converting notebook tutorial.ipynb to rst\n",
      "[NbConvertApp] Writing 52500 bytes to tutorial.rst\n"
     ]
    }
   ],
   "source": [
    "!ipython nbconvert --to rst tutorial.ipynb\n"
   ]
  },
  {
   "cell_type": "markdown",
   "metadata": {},
   "source": [
    "# Quick-start\n",
    "## Install datatable\n",
    "\n",
    "Let’s begin by installing the latest stable version of ``datatable`` from PyPI:\n",
    "\n",
    "\n",
    "~~~ bash\n",
    "$ pip install datatable\n",
    "~~~"
   ]
  },
  {
   "cell_type": "markdown",
   "metadata": {},
   "source": [
    "If this didn’t work for you, or if you want to install the bleeding edge version of the library, please check the [Installation page](install.rst)\n",
    "\n",
    "Assuming the installation was successful, you can now import the library in a JupyterLab notebook or in a Python console:"
   ]
  },
  {
   "cell_type": "code",
   "execution_count": 1,
   "metadata": {},
   "outputs": [
    {
     "data": {
      "text/plain": [
       "'0.8.0'"
      ]
     },
     "execution_count": 1,
     "metadata": {},
     "output_type": "execute_result"
    }
   ],
   "source": [
    "import datatable as dt\n",
    "\n",
    "dt.__version__"
   ]
  },
  {
   "cell_type": "markdown",
   "metadata": {},
   "source": [
    "## Create Frame\n",
    "\n",
    "The fundamental unit of analysis in datatable is a ``Frame``. It is the same notion as a pandas DataFrame or SQL table: data arranged in a two-dimensional array with rows and columns.\n",
    "\n",
    "You can create a ``Frame`` object from a variety of data sources:\n",
    "\n",
    "* from a python **list** or **dictionary**:"
   ]
  },
  {
   "cell_type": "code",
   "execution_count": null,
   "metadata": {},
   "outputs": [
    {
     "data": {
      "text/html": [
       "<style type='text/css'>\n",
       ".datatable table.frame { margin-bottom: 0; }\n",
       ".datatable table.frame thead { border-bottom: none; }\n",
       ".datatable table.frame tr.coltypes td {  color: #FFFFFF;  line-height: 6px;  padding: 0 0.5em;}\n",
       ".datatable .bool { background: #DDDD99; }\n",
       ".datatable .obj  { background: #565656; }\n",
       ".datatable .int  { background: #5D9E5D; }\n",
       ".datatable .real { background: #4040CC; }\n",
       ".datatable .str  { background: #CC4040; }\n",
       ".datatable .row_index {  background: var(--jp-border-color3);  border-right: 1px solid var(--jp-border-color0);  color: var(--jp-ui-font-color3);  font-size: 9px;}\n",
       ".datatable .frame tr.coltypes .row_index {  background: var(--jp-border-color0);}\n",
       ".datatable th:nth-child(2) { padding-left: 12px; }\n",
       ".datatable .hellipsis {  color: var(--jp-cell-editor-border-color);}\n",
       ".datatable .vellipsis {  background: var(--jp-layout-color0);  color: var(--jp-cell-editor-border-color);}\n",
       ".datatable .na {  color: var(--jp-cell-editor-border-color);  font-size: 80%;}\n",
       ".datatable .footer { font-size: 9px; }\n",
       ".datatable .frame_dimensions {  background: var(--jp-border-color3);  border-top: 1px solid var(--jp-border-color0);  color: var(--jp-ui-font-color3);  display: inline-block;  opacity: 0.6;  padding: 1px 10px 1px 5px;}\n",
       "</style>\n",
       "<div class='datatable'>\n",
       "  <table class='frame'>\n",
       "  <thead>\n",
       "    <tr class='colnames'><td class='row_index'></td><th>A</th><th>B</th><th>C</th></tr>\n",
       "    <tr class='coltypes'><td class='row_index'></td><td class='int' title='int64'>&#x25AA;&#x25AA;&#x25AA;&#x25AA;&#x25AA;&#x25AA;&#x25AA;&#x25AA;</td><td class='real' title='float64'>&#x25AA;&#x25AA;&#x25AA;&#x25AA;&#x25AA;&#x25AA;&#x25AA;&#x25AA;</td><td class='str' title='str32'>&#x25AA;&#x25AA;&#x25AA;&#x25AA;</td></tr>\n",
       "  </thead>\n",
       "  <tbody>\n",
       "    <tr><td class='row_index'>0</td><td>0</td><td>1.7</td><td>two</td></tr>\n",
       "    <tr><td class='row_index'>1</td><td>1</td><td>3.4</td><td>one</td></tr>\n",
       "    <tr><td class='row_index'>2</td><td>2</td><td>0</td><td>one</td></tr>\n",
       "    <tr><td class='row_index'>3</td><td>3</td><td><span class=na>NA</span></td><td>two</td></tr>\n",
       "    <tr><td class='row_index'>4</td><td>4</td><td>&minus;inf</td><td>two</td></tr>\n",
       "  </tbody>\n",
       "  </table>\n",
       "  <div class='footer'>\n",
       "    <div class='frame_dimensions'>5 rows &times; 3 columns</div>\n",
       "  </div>\n",
       "</div>\n"
      ],
      "text/plain": []
     },
     "execution_count": 2,
     "metadata": {},
     "output_type": "execute_result"
    }
   ],
   "source": [
    "import datatable as dt\n",
    "import math\n",
    "\n",
    "DT = dt.Frame(A=range(5), B=[1.7, 3.4, 0, None, -math.inf], \n",
    "              C = ['two','one','one','two','two'],\n",
    "                 stypes={\"A\": dt.int64})\n",
    "DT"
   ]
  },
  {
   "cell_type": "markdown",
   "metadata": {},
   "source": [
    "* from a **numpy array**"
   ]
  },
  {
   "cell_type": "code",
   "execution_count": 3,
   "metadata": {},
   "outputs": [
    {
     "data": {
      "text/html": [
       "<div class='datatable'>\n",
       "  <table class='frame'>\n",
       "  <thead>\n",
       "    <tr class='colnames'><td class='row_index'></td><th>C0</th></tr>\n",
       "    <tr class='coltypes'><td class='row_index'></td><td class='real' title='float64'>&#x25AA;&#x25AA;&#x25AA;&#x25AA;&#x25AA;&#x25AA;&#x25AA;&#x25AA;</td></tr>\n",
       "  </thead>\n",
       "  <tbody>\n",
       "    <tr><td class='row_index'>0</td><td>1.62435</td></tr>\n",
       "    <tr><td class='row_index'>1</td><td>&minus;0.611756</td></tr>\n",
       "    <tr><td class='row_index'>2</td><td>&minus;0.528172</td></tr>\n",
       "  </tbody>\n",
       "  </table>\n",
       "  <div class='footer'>\n",
       "    <div class='frame_dimensions'>3 rows &times; 1 column</div>\n",
       "  </div>\n",
       "</div>\n"
      ],
      "text/plain": []
     },
     "execution_count": 3,
     "metadata": {},
     "output_type": "execute_result"
    }
   ],
   "source": [
    "import numpy as np\n",
    "\n",
    "np.random.seed(1)\n",
    "DT2 = dt.Frame(np.random.randn(3))\n",
    "DT2"
   ]
  },
  {
   "cell_type": "markdown",
   "metadata": {},
   "source": [
    "* from a **pandas DataFrame**."
   ]
  },
  {
   "cell_type": "code",
   "execution_count": 4,
   "metadata": {},
   "outputs": [
    {
     "data": {
      "text/html": [
       "<div class='datatable'>\n",
       "  <table class='frame'>\n",
       "  <thead>\n",
       "    <tr class='colnames'><td class='row_index'></td><th>A</th></tr>\n",
       "    <tr class='coltypes'><td class='row_index'></td><td class='int' title='int64'>&#x25AA;&#x25AA;&#x25AA;&#x25AA;&#x25AA;&#x25AA;&#x25AA;&#x25AA;</td></tr>\n",
       "  </thead>\n",
       "  <tbody>\n",
       "    <tr><td class='row_index'>0</td><td>0</td></tr>\n",
       "    <tr><td class='row_index'>1</td><td>1</td></tr>\n",
       "    <tr><td class='row_index'>2</td><td>2</td></tr>\n",
       "  </tbody>\n",
       "  </table>\n",
       "  <div class='footer'>\n",
       "    <div class='frame_dimensions'>3 rows &times; 1 column</div>\n",
       "  </div>\n",
       "</div>\n"
      ],
      "text/plain": []
     },
     "execution_count": 4,
     "metadata": {},
     "output_type": "execute_result"
    }
   ],
   "source": [
    "import pandas as pd\n",
    "\n",
    "DT3 = dt.Frame(pd.DataFrame({\"A\": range(3)}))\n",
    "DT3"
   ]
  },
  {
   "cell_type": "markdown",
   "metadata": {},
   "source": [
    "## Convert Frame\n",
    "\n",
    "Convert an existing ``Frame`` into a numpy array, a pandas DataFrame - requires ``pandas`` and ``numpy``:"
   ]
  },
  {
   "cell_type": "code",
   "execution_count": 5,
   "metadata": {},
   "outputs": [],
   "source": [
    "DT_numpy = DT.to_numpy()\n",
    "DT_pandas = DT.to_pandas()"
   ]
  },
  {
   "cell_type": "markdown",
   "metadata": {},
   "source": [
    "A frame can also be converted into python native data structures: a dictionary, keyed by the column names; a list of columns, where each column is itself a list of values; or a list of rows, where each row is a tuple of values:"
   ]
  },
  {
   "cell_type": "code",
   "execution_count": 6,
   "metadata": {},
   "outputs": [],
   "source": [
    "DT_list = DT.to_list()\n",
    "DT_dict = DT.to_dict()\n",
    "DT_tuple = DT.to_tuples()"
   ]
  },
  {
   "cell_type": "markdown",
   "metadata": {},
   "source": [
    "## Read data\n",
    "\n",
    "You can also load a CSV/text/Excel file, or open a previously saved binary ``.jay`` file:\n",
    "\n",
    "~~~ python\n",
    "DT4 = dt.fread(\"dataset_01.xlsx\")\n",
    "DT5 = dt.fread(\"dataset_02.csv\")\n",
    "DT6 = dt.open(\"data.jay\")\n",
    "~~~"
   ]
  },
  {
   "cell_type": "markdown",
   "metadata": {},
   "source": [
    "``fread()`` function shown above is both powerful and extremely fast. It can automatically detect parse parameters for the majority of text files, load data from .zip archives or URLs, read Excel files, and much more.\n",
    "\n",
    "* Automatically detects separators, headers, column types, quoting rules, etc.\n",
    "* Reads from majority of text files, load data from .zip archives or URLs, read Excel files, URL, shell, raw text, * archives, glob\n",
    "* Provides multi-threaded file reading for maximum speed\n",
    "* Includes a progress indicator when reading large files\n",
    "* Reads both RFC4180-compliant and non-compliant files"
   ]
  },
  {
   "cell_type": "markdown",
   "metadata": {},
   "source": [
    "## Write data\n",
    "\n",
    "Write the Frame’s content into a ``.csv`` file in a multi-threaded way:\n",
    "\n",
    "~~~ python\n",
    "\n",
    "DT.to_csv(\"out.csv\")\n",
    "~~~\n",
    "\n",
    "You can also save a frame into a binary ``.jay`` file:\n",
    "\n",
    "~~~ python\n",
    "\n",
    "DT.to_jay(\"data.jay\")\n",
    "~~~"
   ]
  },
  {
   "cell_type": "markdown",
   "metadata": {},
   "source": [
    "## Frame Properties\n",
    "\n",
    "Investigate your Frame using descripting operators"
   ]
  },
  {
   "cell_type": "code",
   "execution_count": 7,
   "metadata": {},
   "outputs": [
    {
     "data": {
      "text/plain": [
       "(5, 3)"
      ]
     },
     "execution_count": 7,
     "metadata": {},
     "output_type": "execute_result"
    }
   ],
   "source": [
    "DT.shape # number of rows and columns"
   ]
  },
  {
   "cell_type": "code",
   "execution_count": 8,
   "metadata": {},
   "outputs": [
    {
     "data": {
      "text/plain": [
       "('A', 'B', 'C')"
      ]
     },
     "execution_count": 8,
     "metadata": {},
     "output_type": "execute_result"
    }
   ],
   "source": [
    "DT.names # column names"
   ]
  },
  {
   "cell_type": "code",
   "execution_count": 9,
   "metadata": {},
   "outputs": [
    {
     "data": {
      "text/plain": [
       "(stype.int64, stype.float64, stype.str32)"
      ]
     },
     "execution_count": 9,
     "metadata": {},
     "output_type": "execute_result"
    }
   ],
   "source": [
    "DT.stypes # column types"
   ]
  },
  {
   "cell_type": "markdown",
   "metadata": {},
   "source": [
    "## Data manipulation\n",
    "\n",
    "Once the data is loaded into a Frame, you may want to do certain operations with it: extract/remove/modify subsets of the data, perform calculations, reshape, group, join with other datasets, etc. In datatable, the primary vehicle for all these operations is the square-bracket notation inspired by traditional matrix indexing but overcharged with power (this notation was pioneered in R data.table and is the main axis of intersection between these two libraries).\n",
    "\n",
    "In short, almost all operations with a Frame can be expressed as:"
   ]
  },
  {
   "cell_type": "raw",
   "metadata": {},
   "source": [
    "    <style>\n",
    "    .sqbrak {\n",
    "        display: flex;\n",
    "        justify-content: center;\n",
    "        margin-bottom: 16pt;\n",
    "        color: #9AA;  /* whitespace color */\n",
    "    }\n",
    "    .sqbrak, .i, .j {\n",
    "        font-family: Menlo, Consolas, Monaco, monospace;\n",
    "        font-weight: bold;\n",
    "    }\n",
    "    .sqbrak div {\n",
    "        font-size: 160%;\n",
    "        margin: 0;\n",
    "    }\n",
    "    .dt { color: #000; }\n",
    "    .i  { color: #36AA36; }\n",
    "    .j  { color: #E03636; }\n",
    "    .by { color: #33A; }\n",
    "    .jn { color: #A3A; }\n",
    "    .s  { color: #3AA; }\n",
    "    </style>\n",
    "    <div class=\"sqbrak\">\n",
    "      <div>\n",
    "        <b class=dt>DT</b>[<b class=i>i</b>, <b class=j>j</b>, ...]\n",
    "      </div>\n",
    "    </div>"
   ]
  },
  {
   "cell_type": "markdown",
   "metadata": {},
   "source": [
    "where ``i`` is the row selector, ``j`` is the column selector, and ``...`` indicates\n",
    "that additional modifiers might be added. If this looks familiar to you,\n",
    "that's because it is. Exactly the same ``DT[i, j]`` notation is used in\n",
    "mathematics when indexing matrices, in C/C++, in R, in pandas, in numpy, etc.\n",
    "The only difference that datatable introduces is that it allows\n",
    "``i`` to be anything that can conceivably be\n",
    "interpreted as a row selector: an integer to select just one row, a slice,\n",
    "a range, a list of integers, a list of slices, an expression, a boolean-valued\n",
    "Frame, an integer-valued Frame, an integer numpy array, a generator, and so on.\n",
    "\n",
    "The ``j`` column selector is even more versatile.\n",
    "In the simplest case, you can select just a single column by its index or name. But\n",
    "also accepted are a list of columns, a slice, a string slice (of the form ``\"A\":\"Z\"``), a\n",
    "list of booleans indicating which columns to pick, an expression, a list of\n",
    "expressions, and a dictionary of expressions. (The keys will be used as new names\n",
    "for the columns being selected.) The ``j``\n",
    "expression can even be a python type (such as ``int`` or ``dt.float32``),\n",
    "selecting all columns matching that type."
   ]
  },
  {
   "cell_type": "code",
   "execution_count": 10,
   "metadata": {},
   "outputs": [
    {
     "data": {
      "text/html": [
       "<div class='datatable'>\n",
       "  <table class='frame'>\n",
       "  <thead>\n",
       "    <tr class='colnames'><td class='row_index'></td><th>A</th></tr>\n",
       "    <tr class='coltypes'><td class='row_index'></td><td class='int' title='int64'>&#x25AA;&#x25AA;&#x25AA;&#x25AA;&#x25AA;&#x25AA;&#x25AA;&#x25AA;</td></tr>\n",
       "  </thead>\n",
       "  <tbody>\n",
       "    <tr><td class='row_index'>0</td><td>0</td></tr>\n",
       "    <tr><td class='row_index'>1</td><td>1</td></tr>\n",
       "    <tr><td class='row_index'>2</td><td>2</td></tr>\n",
       "    <tr><td class='row_index'>3</td><td>3</td></tr>\n",
       "    <tr><td class='row_index'>4</td><td>4</td></tr>\n",
       "  </tbody>\n",
       "  </table>\n",
       "  <div class='footer'>\n",
       "    <div class='frame_dimensions'>5 rows &times; 1 column</div>\n",
       "  </div>\n",
       "</div>\n"
      ],
      "text/plain": []
     },
     "execution_count": 10,
     "metadata": {},
     "output_type": "execute_result"
    }
   ],
   "source": [
    "DT[:, \"A\"]         # select 1 column"
   ]
  },
  {
   "cell_type": "code",
   "execution_count": 11,
   "metadata": {},
   "outputs": [
    {
     "data": {
      "text/html": [
       "<div class='datatable'>\n",
       "  <table class='frame'>\n",
       "  <thead>\n",
       "    <tr class='colnames'><td class='row_index'></td><th>A</th><th>B</th><th>C</th></tr>\n",
       "    <tr class='coltypes'><td class='row_index'></td><td class='int' title='int64'>&#x25AA;&#x25AA;&#x25AA;&#x25AA;&#x25AA;&#x25AA;&#x25AA;&#x25AA;</td><td class='real' title='float64'>&#x25AA;&#x25AA;&#x25AA;&#x25AA;&#x25AA;&#x25AA;&#x25AA;&#x25AA;</td><td class='str' title='str32'>&#x25AA;&#x25AA;&#x25AA;&#x25AA;</td></tr>\n",
       "  </thead>\n",
       "  <tbody>\n",
       "    <tr><td class='row_index'>0</td><td>0</td><td>1.7</td><td>two</td></tr>\n",
       "    <tr><td class='row_index'>1</td><td>1</td><td>3.4</td><td>one</td></tr>\n",
       "    <tr><td class='row_index'>2</td><td>2</td><td>0</td><td>one</td></tr>\n",
       "  </tbody>\n",
       "  </table>\n",
       "  <div class='footer'>\n",
       "    <div class='frame_dimensions'>3 rows &times; 3 columns</div>\n",
       "  </div>\n",
       "</div>\n"
      ],
      "text/plain": []
     },
     "execution_count": 11,
     "metadata": {},
     "output_type": "execute_result"
    }
   ],
   "source": [
    "DT[:3, :]         # first 3 rows"
   ]
  },
  {
   "cell_type": "code",
   "execution_count": 12,
   "metadata": {},
   "outputs": [
    {
     "data": {
      "text/html": [
       "<div class='datatable'>\n",
       "  <table class='frame'>\n",
       "  <thead>\n",
       "    <tr class='colnames'><td class='row_index'></td><th>A</th><th>B</th><th>C</th></tr>\n",
       "    <tr class='coltypes'><td class='row_index'></td><td class='int' title='int64'>&#x25AA;&#x25AA;&#x25AA;&#x25AA;&#x25AA;&#x25AA;&#x25AA;&#x25AA;</td><td class='real' title='float64'>&#x25AA;&#x25AA;&#x25AA;&#x25AA;&#x25AA;&#x25AA;&#x25AA;&#x25AA;</td><td class='str' title='str32'>&#x25AA;&#x25AA;&#x25AA;&#x25AA;</td></tr>\n",
       "  </thead>\n",
       "  <tbody>\n",
       "    <tr><td class='row_index'>0</td><td>4</td><td>&minus;inf</td><td>two</td></tr>\n",
       "    <tr><td class='row_index'>1</td><td>3</td><td><span class=na>NA</span></td><td>two</td></tr>\n",
       "    <tr><td class='row_index'>2</td><td>2</td><td>0</td><td>one</td></tr>\n",
       "    <tr><td class='row_index'>3</td><td>1</td><td>3.4</td><td>one</td></tr>\n",
       "    <tr><td class='row_index'>4</td><td>0</td><td>1.7</td><td>two</td></tr>\n",
       "  </tbody>\n",
       "  </table>\n",
       "  <div class='footer'>\n",
       "    <div class='frame_dimensions'>5 rows &times; 3 columns</div>\n",
       "  </div>\n",
       "</div>\n"
      ],
      "text/plain": []
     },
     "execution_count": 12,
     "metadata": {},
     "output_type": "execute_result"
    }
   ],
   "source": [
    "DT[::-1, \"A\":\"C\"]  # reverse rows order, columns from A to C"
   ]
  },
  {
   "cell_type": "code",
   "execution_count": 13,
   "metadata": {},
   "outputs": [
    {
     "data": {
      "text/plain": [
       "'two'"
      ]
     },
     "execution_count": 13,
     "metadata": {},
     "output_type": "execute_result"
    }
   ],
   "source": [
    "DT[3, 2]          # single element in row 3, column 2 (0-based)"
   ]
  },
  {
   "cell_type": "markdown",
   "metadata": {},
   "source": [
    "In addition to the selector expression shown above, we support the update and\n",
    "delete statements too:\n",
    "\n",
    "~~~ python\n",
    "  DT[i, j] = r\n",
    "  del DT[i, j]\n",
    "~~~\n",
    "\n",
    "The first expression will replace values in the subset ``[i, j]`` of Frame\n",
    "``DT`` with the values from ``r``, which could be either a constant, or a\n",
    "suitably-sized Frame, or an expression that operates on frame ``DT``.\n",
    "\n",
    "The second expression deletes values in the subset ``[i, j]``. This is\n",
    "interpreted as follows: if ``i`` selects all rows, then the columns given by\n",
    "``j`` are removed from the Frame; if ``j`` selects all columns, then the rows\n",
    "given by ``i`` are removed; if neither ``i`` nor ``j`` span all rows/columns\n",
    "of the Frame, then the elements in the subset ``[i, j]`` are replaced with\n",
    "NAs."
   ]
  },
  {
   "cell_type": "code",
   "execution_count": 14,
   "metadata": {},
   "outputs": [
    {
     "data": {
      "text/html": [
       "<div class='datatable'>\n",
       "  <table class='frame'>\n",
       "  <thead>\n",
       "    <tr class='colnames'><td class='row_index'></td><th>A</th><th>B</th><th>C</th><th>X</th></tr>\n",
       "    <tr class='coltypes'><td class='row_index'></td><td class='int' title='int64'>&#x25AA;&#x25AA;&#x25AA;&#x25AA;&#x25AA;&#x25AA;&#x25AA;&#x25AA;</td><td class='real' title='float64'>&#x25AA;&#x25AA;&#x25AA;&#x25AA;&#x25AA;&#x25AA;&#x25AA;&#x25AA;</td><td class='str' title='str32'>&#x25AA;&#x25AA;&#x25AA;&#x25AA;</td><td class='int' title='int8'>&#x25AA;</td></tr>\n",
       "  </thead>\n",
       "  <tbody>\n",
       "    <tr><td class='row_index'>0</td><td>0</td><td>1.7</td><td>two</td><td>53</td></tr>\n",
       "    <tr><td class='row_index'>1</td><td>1</td><td>3.4</td><td>one</td><td>53</td></tr>\n",
       "    <tr><td class='row_index'>2</td><td>2</td><td>0</td><td>one</td><td>53</td></tr>\n",
       "    <tr><td class='row_index'>3</td><td>3</td><td><span class=na>NA</span></td><td>two</td><td>53</td></tr>\n",
       "    <tr><td class='row_index'>4</td><td>4</td><td>&minus;inf</td><td>two</td><td>53</td></tr>\n",
       "  </tbody>\n",
       "  </table>\n",
       "  <div class='footer'>\n",
       "    <div class='frame_dimensions'>5 rows &times; 4 columns</div>\n",
       "  </div>\n",
       "</div>\n"
      ],
      "text/plain": []
     },
     "execution_count": 14,
     "metadata": {},
     "output_type": "execute_result"
    }
   ],
   "source": [
    "DT[:,\"X\"] = 53    # create new column and assign it value   \n",
    "DT"
   ]
  },
  {
   "cell_type": "code",
   "execution_count": 15,
   "metadata": {},
   "outputs": [
    {
     "data": {
      "text/html": [
       "<div class='datatable'>\n",
       "  <table class='frame'>\n",
       "  <thead>\n",
       "    <tr class='colnames'><td class='row_index'></td><th>A</th><th>B</th><th>C</th><th>X</th><th>Z</th></tr>\n",
       "    <tr class='coltypes'><td class='row_index'></td><td class='int' title='int64'>&#x25AA;&#x25AA;&#x25AA;&#x25AA;&#x25AA;&#x25AA;&#x25AA;&#x25AA;</td><td class='real' title='float64'>&#x25AA;&#x25AA;&#x25AA;&#x25AA;&#x25AA;&#x25AA;&#x25AA;&#x25AA;</td><td class='str' title='str32'>&#x25AA;&#x25AA;&#x25AA;&#x25AA;</td><td class='int' title='int8'>&#x25AA;</td><td class='int' title='int8'>&#x25AA;</td></tr>\n",
       "  </thead>\n",
       "  <tbody>\n",
       "    <tr><td class='row_index'>0</td><td>0</td><td>1.7</td><td>two</td><td>53</td><td><span class=na>NA</span></td></tr>\n",
       "    <tr><td class='row_index'>1</td><td>1</td><td>3.4</td><td>one</td><td>55</td><td>55</td></tr>\n",
       "    <tr><td class='row_index'>2</td><td>2</td><td>0</td><td>one</td><td>55</td><td>55</td></tr>\n",
       "    <tr><td class='row_index'>3</td><td>3</td><td><span class=na>NA</span></td><td>two</td><td>53</td><td><span class=na>NA</span></td></tr>\n",
       "    <tr><td class='row_index'>4</td><td>4</td><td>&minus;inf</td><td>two</td><td>53</td><td><span class=na>NA</span></td></tr>\n",
       "  </tbody>\n",
       "  </table>\n",
       "  <div class='footer'>\n",
       "    <div class='frame_dimensions'>5 rows &times; 5 columns</div>\n",
       "  </div>\n",
       "</div>\n"
      ],
      "text/plain": []
     },
     "execution_count": 15,
     "metadata": {},
     "output_type": "execute_result"
    }
   ],
   "source": [
    "DT[1:3,[\"X\",\"Z\"]] = 55  # update existing and create new column with new value\n",
    "DT"
   ]
  },
  {
   "cell_type": "code",
   "execution_count": 16,
   "metadata": {},
   "outputs": [
    {
     "data": {
      "text/html": [
       "<div class='datatable'>\n",
       "  <table class='frame'>\n",
       "  <thead>\n",
       "    <tr class='colnames'><td class='row_index'></td><th>A</th><th>B</th><th>C</th><th>Z</th></tr>\n",
       "    <tr class='coltypes'><td class='row_index'></td><td class='int' title='int64'>&#x25AA;&#x25AA;&#x25AA;&#x25AA;&#x25AA;&#x25AA;&#x25AA;&#x25AA;</td><td class='real' title='float64'>&#x25AA;&#x25AA;&#x25AA;&#x25AA;&#x25AA;&#x25AA;&#x25AA;&#x25AA;</td><td class='str' title='str32'>&#x25AA;&#x25AA;&#x25AA;&#x25AA;</td><td class='int' title='int8'>&#x25AA;</td></tr>\n",
       "  </thead>\n",
       "  <tbody>\n",
       "    <tr><td class='row_index'>0</td><td>0</td><td>1.7</td><td>two</td><td><span class=na>NA</span></td></tr>\n",
       "    <tr><td class='row_index'>1</td><td>1</td><td>3.4</td><td>one</td><td>55</td></tr>\n",
       "    <tr><td class='row_index'>2</td><td>2</td><td>0</td><td>one</td><td>55</td></tr>\n",
       "    <tr><td class='row_index'>3</td><td>3</td><td><span class=na>NA</span></td><td>two</td><td><span class=na>NA</span></td></tr>\n",
       "    <tr><td class='row_index'>4</td><td>4</td><td>&minus;inf</td><td>two</td><td><span class=na>NA</span></td></tr>\n",
       "  </tbody>\n",
       "  </table>\n",
       "  <div class='footer'>\n",
       "    <div class='frame_dimensions'>5 rows &times; 4 columns</div>\n",
       "  </div>\n",
       "</div>\n"
      ],
      "text/plain": []
     },
     "execution_count": 16,
     "metadata": {},
     "output_type": "execute_result"
    }
   ],
   "source": [
    "del DT[:,\"X\"]\n",
    "DT"
   ]
  },
  {
   "cell_type": "markdown",
   "metadata": {},
   "source": [
    "## Compute Per-Column Summary Stats\n",
    "\n",
    "Detailed description of Frame functions can be found in [Frame documentation](api/frame.rst)"
   ]
  },
  {
   "cell_type": "code",
   "execution_count": 17,
   "metadata": {},
   "outputs": [
    {
     "data": {
      "text/html": [
       "<div class='datatable'>\n",
       "  <table class='frame'>\n",
       "  <thead>\n",
       "    <tr class='colnames'><td class='row_index'></td><th>A</th><th>B</th><th>C</th><th>Z</th></tr>\n",
       "    <tr class='coltypes'><td class='row_index'></td><td class='int' title='int64'>&#x25AA;&#x25AA;&#x25AA;&#x25AA;&#x25AA;&#x25AA;&#x25AA;&#x25AA;</td><td class='real' title='float64'>&#x25AA;&#x25AA;&#x25AA;&#x25AA;&#x25AA;&#x25AA;&#x25AA;&#x25AA;</td><td class='str' title='str32'>&#x25AA;&#x25AA;&#x25AA;&#x25AA;</td><td class='int' title='int64'>&#x25AA;&#x25AA;&#x25AA;&#x25AA;&#x25AA;&#x25AA;&#x25AA;&#x25AA;</td></tr>\n",
       "  </thead>\n",
       "  <tbody>\n",
       "    <tr><td class='row_index'>0</td><td>10</td><td>&minus;inf</td><td><span class=na>NA</span></td><td>110</td></tr>\n",
       "  </tbody>\n",
       "  </table>\n",
       "  <div class='footer'>\n",
       "    <div class='frame_dimensions'>1 row &times; 4 columns</div>\n",
       "  </div>\n",
       "</div>\n"
      ],
      "text/plain": []
     },
     "execution_count": 17,
     "metadata": {},
     "output_type": "execute_result"
    }
   ],
   "source": [
    "DT.sum()"
   ]
  },
  {
   "cell_type": "code",
   "execution_count": 18,
   "metadata": {},
   "outputs": [
    {
     "data": {
      "text/html": [
       "<div class='datatable'>\n",
       "  <table class='frame'>\n",
       "  <thead>\n",
       "    <tr class='colnames'><td class='row_index'></td><th>A</th><th>B</th><th>C</th><th>Z</th></tr>\n",
       "    <tr class='coltypes'><td class='row_index'></td><td class='int' title='int64'>&#x25AA;&#x25AA;&#x25AA;&#x25AA;&#x25AA;&#x25AA;&#x25AA;&#x25AA;</td><td class='real' title='float64'>&#x25AA;&#x25AA;&#x25AA;&#x25AA;&#x25AA;&#x25AA;&#x25AA;&#x25AA;</td><td class='str' title='str32'>&#x25AA;&#x25AA;&#x25AA;&#x25AA;</td><td class='int' title='int8'>&#x25AA;</td></tr>\n",
       "  </thead>\n",
       "  <tbody>\n",
       "    <tr><td class='row_index'>0</td><td>4</td><td>3.4</td><td><span class=na>NA</span></td><td>55</td></tr>\n",
       "  </tbody>\n",
       "  </table>\n",
       "  <div class='footer'>\n",
       "    <div class='frame_dimensions'>1 row &times; 4 columns</div>\n",
       "  </div>\n",
       "</div>\n"
      ],
      "text/plain": []
     },
     "execution_count": 18,
     "metadata": {},
     "output_type": "execute_result"
    }
   ],
   "source": [
    "DT.max()"
   ]
  },
  {
   "cell_type": "code",
   "execution_count": 19,
   "metadata": {},
   "outputs": [
    {
     "data": {
      "text/html": [
       "<div class='datatable'>\n",
       "  <table class='frame'>\n",
       "  <thead>\n",
       "    <tr class='colnames'><td class='row_index'></td><th>A</th><th>B</th><th>C</th><th>Z</th></tr>\n",
       "    <tr class='coltypes'><td class='row_index'></td><td class='int' title='int64'>&#x25AA;&#x25AA;&#x25AA;&#x25AA;&#x25AA;&#x25AA;&#x25AA;&#x25AA;</td><td class='real' title='float64'>&#x25AA;&#x25AA;&#x25AA;&#x25AA;&#x25AA;&#x25AA;&#x25AA;&#x25AA;</td><td class='str' title='str32'>&#x25AA;&#x25AA;&#x25AA;&#x25AA;</td><td class='int' title='int8'>&#x25AA;</td></tr>\n",
       "  </thead>\n",
       "  <tbody>\n",
       "    <tr><td class='row_index'>0</td><td>0</td><td>&minus;inf</td><td><span class=na>NA</span></td><td>55</td></tr>\n",
       "  </tbody>\n",
       "  </table>\n",
       "  <div class='footer'>\n",
       "    <div class='frame_dimensions'>1 row &times; 4 columns</div>\n",
       "  </div>\n",
       "</div>\n"
      ],
      "text/plain": []
     },
     "execution_count": 19,
     "metadata": {},
     "output_type": "execute_result"
    }
   ],
   "source": [
    "DT.min()"
   ]
  },
  {
   "cell_type": "code",
   "execution_count": 20,
   "metadata": {},
   "outputs": [
    {
     "data": {
      "text/html": [
       "<div class='datatable'>\n",
       "  <table class='frame'>\n",
       "  <thead>\n",
       "    <tr class='colnames'><td class='row_index'></td><th>A</th><th>B</th><th>C</th><th>Z</th></tr>\n",
       "    <tr class='coltypes'><td class='row_index'></td><td class='real' title='float64'>&#x25AA;&#x25AA;&#x25AA;&#x25AA;&#x25AA;&#x25AA;&#x25AA;&#x25AA;</td><td class='real' title='float64'>&#x25AA;&#x25AA;&#x25AA;&#x25AA;&#x25AA;&#x25AA;&#x25AA;&#x25AA;</td><td class='real' title='float64'>&#x25AA;&#x25AA;&#x25AA;&#x25AA;&#x25AA;&#x25AA;&#x25AA;&#x25AA;</td><td class='real' title='float64'>&#x25AA;&#x25AA;&#x25AA;&#x25AA;&#x25AA;&#x25AA;&#x25AA;&#x25AA;</td></tr>\n",
       "  </thead>\n",
       "  <tbody>\n",
       "    <tr><td class='row_index'>0</td><td>2</td><td>&minus;inf</td><td><span class=na>NA</span></td><td>55</td></tr>\n",
       "  </tbody>\n",
       "  </table>\n",
       "  <div class='footer'>\n",
       "    <div class='frame_dimensions'>1 row &times; 4 columns</div>\n",
       "  </div>\n",
       "</div>\n"
      ],
      "text/plain": []
     },
     "execution_count": 20,
     "metadata": {},
     "output_type": "execute_result"
    }
   ],
   "source": [
    "DT.mean()"
   ]
  },
  {
   "cell_type": "code",
   "execution_count": 21,
   "metadata": {},
   "outputs": [
    {
     "data": {
      "text/html": [
       "<div class='datatable'>\n",
       "  <table class='frame'>\n",
       "  <thead>\n",
       "    <tr class='colnames'><td class='row_index'></td><th>A</th><th>B</th><th>C</th><th>Z</th></tr>\n",
       "    <tr class='coltypes'><td class='row_index'></td><td class='real' title='float64'>&#x25AA;&#x25AA;&#x25AA;&#x25AA;&#x25AA;&#x25AA;&#x25AA;&#x25AA;</td><td class='real' title='float64'>&#x25AA;&#x25AA;&#x25AA;&#x25AA;&#x25AA;&#x25AA;&#x25AA;&#x25AA;</td><td class='real' title='float64'>&#x25AA;&#x25AA;&#x25AA;&#x25AA;&#x25AA;&#x25AA;&#x25AA;&#x25AA;</td><td class='real' title='float64'>&#x25AA;&#x25AA;&#x25AA;&#x25AA;&#x25AA;&#x25AA;&#x25AA;&#x25AA;</td></tr>\n",
       "  </thead>\n",
       "  <tbody>\n",
       "    <tr><td class='row_index'>0</td><td>1.58114</td><td><span class=na>NA</span></td><td><span class=na>NA</span></td><td>0</td></tr>\n",
       "  </tbody>\n",
       "  </table>\n",
       "  <div class='footer'>\n",
       "    <div class='frame_dimensions'>1 row &times; 4 columns</div>\n",
       "  </div>\n",
       "</div>\n"
      ],
      "text/plain": []
     },
     "execution_count": 21,
     "metadata": {},
     "output_type": "execute_result"
    }
   ],
   "source": [
    "DT.sd()"
   ]
  },
  {
   "cell_type": "code",
   "execution_count": 22,
   "metadata": {},
   "outputs": [
    {
     "data": {
      "text/html": [
       "<div class='datatable'>\n",
       "  <table class='frame'>\n",
       "  <thead>\n",
       "    <tr class='colnames'><td class='row_index'></td><th>A</th><th>B</th><th>C</th><th>Z</th></tr>\n",
       "    <tr class='coltypes'><td class='row_index'></td><td class='int' title='int64'>&#x25AA;&#x25AA;&#x25AA;&#x25AA;&#x25AA;&#x25AA;&#x25AA;&#x25AA;</td><td class='real' title='float64'>&#x25AA;&#x25AA;&#x25AA;&#x25AA;&#x25AA;&#x25AA;&#x25AA;&#x25AA;</td><td class='str' title='str32'>&#x25AA;&#x25AA;&#x25AA;&#x25AA;</td><td class='int' title='int8'>&#x25AA;</td></tr>\n",
       "  </thead>\n",
       "  <tbody>\n",
       "    <tr><td class='row_index'>0</td><td>0</td><td>&minus;inf</td><td>two</td><td>55</td></tr>\n",
       "  </tbody>\n",
       "  </table>\n",
       "  <div class='footer'>\n",
       "    <div class='frame_dimensions'>1 row &times; 4 columns</div>\n",
       "  </div>\n",
       "</div>\n"
      ],
      "text/plain": []
     },
     "execution_count": 22,
     "metadata": {},
     "output_type": "execute_result"
    }
   ],
   "source": [
    "DT.mode()"
   ]
  },
  {
   "cell_type": "code",
   "execution_count": 23,
   "metadata": {},
   "outputs": [
    {
     "data": {
      "text/html": [
       "<div class='datatable'>\n",
       "  <table class='frame'>\n",
       "  <thead>\n",
       "    <tr class='colnames'><td class='row_index'></td><th>A</th><th>B</th><th>C</th><th>Z</th></tr>\n",
       "    <tr class='coltypes'><td class='row_index'></td><td class='int' title='int64'>&#x25AA;&#x25AA;&#x25AA;&#x25AA;&#x25AA;&#x25AA;&#x25AA;&#x25AA;</td><td class='int' title='int64'>&#x25AA;&#x25AA;&#x25AA;&#x25AA;&#x25AA;&#x25AA;&#x25AA;&#x25AA;</td><td class='int' title='int64'>&#x25AA;&#x25AA;&#x25AA;&#x25AA;&#x25AA;&#x25AA;&#x25AA;&#x25AA;</td><td class='int' title='int64'>&#x25AA;&#x25AA;&#x25AA;&#x25AA;&#x25AA;&#x25AA;&#x25AA;&#x25AA;</td></tr>\n",
       "  </thead>\n",
       "  <tbody>\n",
       "    <tr><td class='row_index'>0</td><td>1</td><td>1</td><td>3</td><td>2</td></tr>\n",
       "  </tbody>\n",
       "  </table>\n",
       "  <div class='footer'>\n",
       "    <div class='frame_dimensions'>1 row &times; 4 columns</div>\n",
       "  </div>\n",
       "</div>\n"
      ],
      "text/plain": []
     },
     "execution_count": 23,
     "metadata": {},
     "output_type": "execute_result"
    }
   ],
   "source": [
    "DT.nmodal()"
   ]
  },
  {
   "cell_type": "code",
   "execution_count": 24,
   "metadata": {},
   "outputs": [
    {
     "data": {
      "text/html": [
       "<div class='datatable'>\n",
       "  <table class='frame'>\n",
       "  <thead>\n",
       "    <tr class='colnames'><td class='row_index'></td><th>A</th><th>B</th><th>C</th><th>Z</th></tr>\n",
       "    <tr class='coltypes'><td class='row_index'></td><td class='int' title='int64'>&#x25AA;&#x25AA;&#x25AA;&#x25AA;&#x25AA;&#x25AA;&#x25AA;&#x25AA;</td><td class='int' title='int64'>&#x25AA;&#x25AA;&#x25AA;&#x25AA;&#x25AA;&#x25AA;&#x25AA;&#x25AA;</td><td class='int' title='int64'>&#x25AA;&#x25AA;&#x25AA;&#x25AA;&#x25AA;&#x25AA;&#x25AA;&#x25AA;</td><td class='int' title='int64'>&#x25AA;&#x25AA;&#x25AA;&#x25AA;&#x25AA;&#x25AA;&#x25AA;&#x25AA;</td></tr>\n",
       "  </thead>\n",
       "  <tbody>\n",
       "    <tr><td class='row_index'>0</td><td>5</td><td>4</td><td>2</td><td>1</td></tr>\n",
       "  </tbody>\n",
       "  </table>\n",
       "  <div class='footer'>\n",
       "    <div class='frame_dimensions'>1 row &times; 4 columns</div>\n",
       "  </div>\n",
       "</div>\n"
      ],
      "text/plain": []
     },
     "execution_count": 24,
     "metadata": {},
     "output_type": "execute_result"
    }
   ],
   "source": [
    "DT.nunique()"
   ]
  },
  {
   "cell_type": "markdown",
   "metadata": {},
   "source": [
    "## What the f.?\n",
    "\n",
    "\n",
    "You may have noticed already that we mentioned several times the possibility\n",
    "of using expressions in ``i`` or\n",
    "``j`` and in other places. In the simplest form\n",
    "an expression looks like\n",
    "\n",
    "~~~python\n",
    "  f.ColA\n",
    "~~~\n",
    "\n",
    "which indicates a column ``ColA`` in some Frame. Here ``f`` is a variable that\n",
    "has to be imported from the datatable module. This variable provides a convenient\n",
    "way to reference any column in a Frame. In addition to the notation above, the\n",
    "following is also supported:\n",
    "\n",
    "~~~python\n",
    "  f[3]\n",
    "  f[\"ColB\"]\n",
    "~~~\n",
    "\n",
    "denoting the fourth column and the column ``ColB`` respectively.\n",
    "\n",
    "Compute columnar expressions using:\n",
    "\n",
    "~~~python\n",
    "df[:, {\"x\": f.x, \"y\": f.y, \"x+y\": f.x + f.y, \"x-y\": f.x - f.y}]\n",
    "~~~\n",
    "\n",
    "These f-expressions support arithmetic operations as well as various mathematical and\n",
    "aggregate functions. For example, in order to select the values from column\n",
    "``A`` normalized to range ``[0; 1]`` we can write the following:"
   ]
  },
  {
   "cell_type": "code",
   "execution_count": 25,
   "metadata": {},
   "outputs": [
    {
     "data": {
      "text/html": [
       "<div class='datatable'>\n",
       "  <table class='frame'>\n",
       "  <thead>\n",
       "    <tr class='colnames'><td class='row_index'></td><th>A_normalized</th></tr>\n",
       "    <tr class='coltypes'><td class='row_index'></td><td class='real' title='float64'>&#x25AA;&#x25AA;&#x25AA;&#x25AA;&#x25AA;&#x25AA;&#x25AA;&#x25AA;</td></tr>\n",
       "  </thead>\n",
       "  <tbody>\n",
       "    <tr><td class='row_index'>0</td><td>0</td></tr>\n",
       "    <tr><td class='row_index'>1</td><td>0.25</td></tr>\n",
       "    <tr><td class='row_index'>2</td><td>0.5</td></tr>\n",
       "    <tr><td class='row_index'>3</td><td>0.75</td></tr>\n",
       "    <tr><td class='row_index'>4</td><td>1</td></tr>\n",
       "  </tbody>\n",
       "  </table>\n",
       "  <div class='footer'>\n",
       "    <div class='frame_dimensions'>5 rows &times; 1 column</div>\n",
       "  </div>\n",
       "</div>\n"
      ],
      "text/plain": []
     },
     "execution_count": 25,
     "metadata": {},
     "output_type": "execute_result"
    }
   ],
   "source": [
    "from datatable import f, min, max\n",
    "\n",
    "DT[:, {\"A_normalized\":(f.A - min(f.A))/(max(f.A) - min(f.A))}]"
   ]
  },
  {
   "cell_type": "markdown",
   "metadata": {},
   "source": [
    "This is equivalent to the following SQL query:\n",
    "\n",
    "~~~ SQL\n",
    "  SELECT (f.A - MIN(f.A))/(MAX(f.A) - MIN(f.A)) FROM DT AS f\n",
    "~~~\n",
    "\n",
    "So, what exactly is ``f``? We call it a \"**frame proxy**\", as it becomes a\n",
    "simple way to refer to the Frame that we currently operate on. More precisely,\n",
    "whenever ``DT[i, j]`` is evaluated and we encounter an ``f``-expression there,\n",
    "that ``f`` becomes replaced with the frame ``DT``, and the columns are looked\n",
    "up on that Frame. The same expression can later on be applied to a different\n",
    "Frame, and it will refer to the columns in that other Frame.\n",
    "\n",
    "At some point you may notice that that datatable also exports symbol ``g``. This\n",
    "``g`` is also a frame proxy; however it already refers to the *second* frame in\n",
    "the evaluated expression. This second frame appears when you are *joining* two\n",
    "or more frames together (more on that later). When that happens, symbol ``g`` is\n",
    "used to refer to the columns of the joined frame.\n",
    "\n",
    "This syntax allows do comlex filtering in user friendly way:"
   ]
  },
  {
   "cell_type": "code",
   "execution_count": 26,
   "metadata": {},
   "outputs": [
    {
     "data": {
      "text/html": [
       "<div class='datatable'>\n",
       "  <table class='frame'>\n",
       "  <thead>\n",
       "    <tr class='colnames'><td class='row_index'></td><th>A</th><th>B</th></tr>\n",
       "    <tr class='coltypes'><td class='row_index'></td><td class='int' title='int64'>&#x25AA;&#x25AA;&#x25AA;&#x25AA;&#x25AA;&#x25AA;&#x25AA;&#x25AA;</td><td class='real' title='float64'>&#x25AA;&#x25AA;&#x25AA;&#x25AA;&#x25AA;&#x25AA;&#x25AA;&#x25AA;</td></tr>\n",
       "  </thead>\n",
       "  <tbody>\n",
       "    <tr><td class='row_index'>0</td><td>2</td><td>0</td></tr>\n",
       "    <tr><td class='row_index'>1</td><td>3</td><td><span class=na>NA</span></td></tr>\n",
       "    <tr><td class='row_index'>2</td><td>4</td><td>&minus;inf</td></tr>\n",
       "  </tbody>\n",
       "  </table>\n",
       "  <div class='footer'>\n",
       "    <div class='frame_dimensions'>3 rows &times; 2 columns</div>\n",
       "  </div>\n",
       "</div>\n"
      ],
      "text/plain": []
     },
     "execution_count": 26,
     "metadata": {},
     "output_type": "execute_result"
    }
   ],
   "source": [
    "DT[f.A > 1,\"A\":\"B\"]  # conditional selecting"
   ]
  },
  {
   "cell_type": "code",
   "execution_count": 27,
   "metadata": {},
   "outputs": [
    {
     "data": {
      "text/html": [
       "<div class='datatable'>\n",
       "  <table class='frame'>\n",
       "  <thead>\n",
       "    <tr class='colnames'><td class='row_index'></td><th>A</th><th>C</th></tr>\n",
       "    <tr class='coltypes'><td class='row_index'></td><td class='int' title='int64'>&#x25AA;&#x25AA;&#x25AA;&#x25AA;&#x25AA;&#x25AA;&#x25AA;&#x25AA;</td><td class='str' title='str32'>&#x25AA;&#x25AA;&#x25AA;&#x25AA;</td></tr>\n",
       "  </thead>\n",
       "  <tbody>\n",
       "    <tr><td class='row_index'>0</td><td>0</td><td>two</td></tr>\n",
       "    <tr><td class='row_index'>1</td><td>1</td><td>one</td></tr>\n",
       "    <tr><td class='row_index'>2</td><td>2</td><td>one</td></tr>\n",
       "    <tr><td class='row_index'>3</td><td>3</td><td>two</td></tr>\n",
       "    <tr><td class='row_index'>4</td><td>4</td><td>two</td></tr>\n",
       "  </tbody>\n",
       "  </table>\n",
       "  <div class='footer'>\n",
       "    <div class='frame_dimensions'>5 rows &times; 2 columns</div>\n",
       "  </div>\n",
       "</div>\n"
      ],
      "text/plain": []
     },
     "execution_count": 27,
     "metadata": {},
     "output_type": "execute_result"
    }
   ],
   "source": [
    "from datatable import sd, mean\n",
    "\n",
    "DT[(f.A > mean(f.B) + 2.5 * sd(f.A)) | (f.A < -mean(f.Z) - sd(f.B)), #which rows to select\n",
    "   [\"A\",\"C\"]] #which columns to select"
   ]
  },
  {
   "cell_type": "markdown",
   "metadata": {},
   "source": [
    "## Groupbys / joins\n",
    "\n",
    "In the `Data Manipulation`_ section we mentioned that the ``DT[i, j, ...]`` selector\n",
    "can take zero or more modifiers, which we denoted as ``[...]``. The available\n",
    "modifiers are ``by()``, ``join()`` and ``sort()``. Thus, the full form of the\n",
    "square-bracket selector is:"
   ]
  },
  {
   "cell_type": "raw",
   "metadata": {},
   "source": [
    "    \n",
    "    <div class=\"sqbrak\">\n",
    "      <div>\n",
    "        <b class=dt>DT</b>[<b class=i>i</b>, <b class=j>j</b>,\n",
    "        <b class=by>by()</b>, <b class=s>sort()</b>, <b class=jn>join()</b>]\n",
    "      </div>\n",
    "    </div>"
   ]
  },
  {
   "cell_type": "markdown",
   "metadata": {},
   "source": [
    "### by(...)\n",
    "\n",
    "This modifier splits the frame into groups by the provided column(s), and then\n",
    "applies ``i`` and ``j`` within\n",
    "each group. This mostly affects aggregator functions such as ``sum()``,\n",
    "``min()`` or ``sd()``, but may also apply in other circumstances. For example,\n",
    "if ``i`` is a slice that takes the first 5 rows of a frame,\n",
    "then in the presence of the ``by()`` modifier it will take the first 5 rows of\n",
    "each group.\n",
    "\n",
    "For example, in order to find the total amount of each product sold, write:"
   ]
  },
  {
   "cell_type": "code",
   "execution_count": 28,
   "metadata": {},
   "outputs": [
    {
     "data": {
      "text/html": [
       "<div class='datatable'>\n",
       "  <table class='frame'>\n",
       "  <thead>\n",
       "    <tr class='colnames'><td class='row_index'></td><th>C</th><th>sum_A</th></tr>\n",
       "    <tr class='coltypes'><td class='row_index'></td><td class='str' title='str32'>&#x25AA;&#x25AA;&#x25AA;&#x25AA;</td><td class='int' title='int64'>&#x25AA;&#x25AA;&#x25AA;&#x25AA;&#x25AA;&#x25AA;&#x25AA;&#x25AA;</td></tr>\n",
       "  </thead>\n",
       "  <tbody>\n",
       "    <tr><td class='row_index'>0</td><td>one</td><td>3</td></tr>\n",
       "    <tr><td class='row_index'>1</td><td>two</td><td>7</td></tr>\n",
       "  </tbody>\n",
       "  </table>\n",
       "  <div class='footer'>\n",
       "    <div class='frame_dimensions'>2 rows &times; 2 columns</div>\n",
       "  </div>\n",
       "</div>\n"
      ],
      "text/plain": []
     },
     "execution_count": 28,
     "metadata": {},
     "output_type": "execute_result"
    }
   ],
   "source": [
    "from datatable import f, by, sum\n",
    "\n",
    "DT[:, {\"sum_A\":sum(f.A)}, by(f.C)]"
   ]
  },
  {
   "cell_type": "markdown",
   "metadata": {},
   "source": [
    "or calculate mean value by groups in colums"
   ]
  },
  {
   "cell_type": "code",
   "execution_count": 29,
   "metadata": {},
   "outputs": [
    {
     "data": {
      "text/html": [
       "<div class='datatable'>\n",
       "  <table class='frame'>\n",
       "  <thead>\n",
       "    <tr class='colnames'><td class='row_index'></td><th>C</th><th>mean_A</th></tr>\n",
       "    <tr class='coltypes'><td class='row_index'></td><td class='str' title='str32'>&#x25AA;&#x25AA;&#x25AA;&#x25AA;</td><td class='real' title='float64'>&#x25AA;&#x25AA;&#x25AA;&#x25AA;&#x25AA;&#x25AA;&#x25AA;&#x25AA;</td></tr>\n",
       "  </thead>\n",
       "  <tbody>\n",
       "    <tr><td class='row_index'>0</td><td>one</td><td>1.5</td></tr>\n",
       "    <tr><td class='row_index'>1</td><td>two</td><td>2.33333</td></tr>\n",
       "  </tbody>\n",
       "  </table>\n",
       "  <div class='footer'>\n",
       "    <div class='frame_dimensions'>2 rows &times; 2 columns</div>\n",
       "  </div>\n",
       "</div>\n"
      ],
      "text/plain": []
     },
     "execution_count": 29,
     "metadata": {},
     "output_type": "execute_result"
    }
   ],
   "source": [
    "from datatable import mean\n",
    "\n",
    "DT[:, {\"mean_A\" : mean(f.A)}, by(\"C\")]"
   ]
  },
  {
   "cell_type": "markdown",
   "metadata": {},
   "source": [
    "### sort(...)\n",
    "\n",
    "This modifier controls the order of the rows in the result, much like SQL clause\n",
    "``ORDER BY``. If used in conjunction with ``by()``, it will order the rows\n",
    "within each group."
   ]
  },
  {
   "cell_type": "code",
   "execution_count": 30,
   "metadata": {},
   "outputs": [
    {
     "data": {
      "text/html": [
       "<div class='datatable'>\n",
       "  <table class='frame'>\n",
       "  <thead>\n",
       "    <tr class='colnames'><td class='row_index'></td><th>A</th><th>B</th><th>C</th><th>Z</th></tr>\n",
       "    <tr class='coltypes'><td class='row_index'></td><td class='int' title='int64'>&#x25AA;&#x25AA;&#x25AA;&#x25AA;&#x25AA;&#x25AA;&#x25AA;&#x25AA;</td><td class='real' title='float64'>&#x25AA;&#x25AA;&#x25AA;&#x25AA;&#x25AA;&#x25AA;&#x25AA;&#x25AA;</td><td class='str' title='str32'>&#x25AA;&#x25AA;&#x25AA;&#x25AA;</td><td class='int' title='int8'>&#x25AA;</td></tr>\n",
       "  </thead>\n",
       "  <tbody>\n",
       "    <tr><td class='row_index'>0</td><td>3</td><td><span class=na>NA</span></td><td>two</td><td><span class=na>NA</span></td></tr>\n",
       "    <tr><td class='row_index'>1</td><td>4</td><td>&minus;inf</td><td>two</td><td><span class=na>NA</span></td></tr>\n",
       "    <tr><td class='row_index'>2</td><td>2</td><td>0</td><td>one</td><td>55</td></tr>\n",
       "    <tr><td class='row_index'>3</td><td>0</td><td>1.7</td><td>two</td><td><span class=na>NA</span></td></tr>\n",
       "    <tr><td class='row_index'>4</td><td>1</td><td>3.4</td><td>one</td><td>55</td></tr>\n",
       "  </tbody>\n",
       "  </table>\n",
       "  <div class='footer'>\n",
       "    <div class='frame_dimensions'>5 rows &times; 4 columns</div>\n",
       "  </div>\n",
       "</div>\n"
      ],
      "text/plain": []
     },
     "execution_count": 30,
     "metadata": {},
     "output_type": "execute_result"
    }
   ],
   "source": [
    "from datatable import sort\n",
    "\n",
    "DT[:,:,sort(f.B)]"
   ]
  },
  {
   "cell_type": "code",
   "execution_count": 31,
   "metadata": {},
   "outputs": [
    {
     "data": {
      "text/html": [
       "<div class='datatable'>\n",
       "  <table class='frame'>\n",
       "  <thead>\n",
       "    <tr class='colnames'><td class='row_index'></td><th>A</th><th>B</th><th>C</th><th>Z</th></tr>\n",
       "    <tr class='coltypes'><td class='row_index'></td><td class='int' title='int64'>&#x25AA;&#x25AA;&#x25AA;&#x25AA;&#x25AA;&#x25AA;&#x25AA;&#x25AA;</td><td class='real' title='float64'>&#x25AA;&#x25AA;&#x25AA;&#x25AA;&#x25AA;&#x25AA;&#x25AA;&#x25AA;</td><td class='str' title='str32'>&#x25AA;&#x25AA;&#x25AA;&#x25AA;</td><td class='int' title='int8'>&#x25AA;</td></tr>\n",
       "  </thead>\n",
       "  <tbody>\n",
       "    <tr><td class='row_index'>0</td><td>0</td><td>1.7</td><td>two</td><td><span class=na>NA</span></td></tr>\n",
       "    <tr><td class='row_index'>1</td><td>3</td><td><span class=na>NA</span></td><td>two</td><td><span class=na>NA</span></td></tr>\n",
       "    <tr><td class='row_index'>2</td><td>4</td><td>&minus;inf</td><td>two</td><td><span class=na>NA</span></td></tr>\n",
       "    <tr><td class='row_index'>3</td><td>1</td><td>3.4</td><td>one</td><td>55</td></tr>\n",
       "    <tr><td class='row_index'>4</td><td>2</td><td>0</td><td>one</td><td>55</td></tr>\n",
       "  </tbody>\n",
       "  </table>\n",
       "  <div class='footer'>\n",
       "    <div class='frame_dimensions'>5 rows &times; 4 columns</div>\n",
       "  </div>\n",
       "</div>\n"
      ],
      "text/plain": []
     },
     "execution_count": 31,
     "metadata": {},
     "output_type": "execute_result"
    }
   ],
   "source": [
    "DT.sort(\"Z\")"
   ]
  },
  {
   "cell_type": "markdown",
   "metadata": {},
   "source": [
    "### join(...)\n",
    "\n",
    "\n",
    "As the name suggests, this operator allows you to join another frame to the\n",
    "current, equivalent to the SQL ``JOIN`` operator. Currently we support only\n",
    "left outer joins.\n",
    "\n",
    "In order to join frame ``X``, it must be keyed. A keyed frame is conceptually\n",
    "similar to a SQL table with a unique primary key. This key may be either a\n",
    "single column, or several columns:\n",
    "\n",
    "~~~ python\n",
    "X.key = \"id\"\n",
    "~~~\n",
    "\n",
    "Once a frame is keyed, it can be joined to another frame ``DT``, provided that\n",
    "``DT`` has the column(s) with the same name(s) as the key in ``X``:\n",
    "\n",
    "~~~ python\n",
    "DT[:, :, join(X)]\n",
    "~~~ \n",
    "\n",
    "This has the semantics of a natural left outer join. The ``X`` frame can be\n",
    "considered as a dictionary, where the key column contains the keys, and all\n",
    "other columns are the corresponding values. Then during the join each row of\n",
    "``DT`` will be matched against the row of ``X`` with the same value of the\n",
    "key column, and if there are no such value in ``X``, with an all-NA row.\n",
    "\n",
    "The columns of the joined frame can be used in expressions using the ``g.``\n",
    "prefix.\n",
    "\n",
    "**NOTE:** In the future, we will expand the syntax of the join operator to allow other kinds of joins and also to remove the limitation that only keyed frames can be joined."
   ]
  },
  {
   "cell_type": "code",
   "execution_count": 32,
   "metadata": {},
   "outputs": [
    {
     "data": {
      "text/html": [
       "<div class='datatable'>\n",
       "  <table class='frame'>\n",
       "  <thead>\n",
       "    <tr class='colnames'><td class='row_index'></td><th>product_id</th><th>quantity</th></tr>\n",
       "    <tr class='coltypes'><td class='row_index'></td><td class='int' title='int8'>&#x25AA;</td><td class='int' title='int64'>&#x25AA;&#x25AA;&#x25AA;&#x25AA;&#x25AA;&#x25AA;&#x25AA;&#x25AA;</td></tr>\n",
       "  </thead>\n",
       "  <tbody>\n",
       "    <tr><td class='row_index'>0</td><td>1</td><td>11</td></tr>\n",
       "    <tr><td class='row_index'>1</td><td>1</td><td>22</td></tr>\n",
       "    <tr><td class='row_index'>2</td><td>1</td><td>16</td></tr>\n",
       "    <tr><td class='row_index'>3</td><td>2</td><td>45</td></tr>\n",
       "    <tr><td class='row_index'>4</td><td>2</td><td>65</td></tr>\n",
       "    <tr><td class='row_index'>5</td><td>2</td><td>60</td></tr>\n",
       "    <tr><td class='row_index'>6</td><td>3</td><td>33</td></tr>\n",
       "    <tr><td class='row_index'>7</td><td>3</td><td>37</td></tr>\n",
       "    <tr><td class='row_index'>8</td><td>3</td><td>39</td></tr>\n",
       "  </tbody>\n",
       "  </table>\n",
       "  <div class='footer'>\n",
       "    <div class='frame_dimensions'>9 rows &times; 2 columns</div>\n",
       "  </div>\n",
       "</div>\n"
      ],
      "text/plain": []
     },
     "execution_count": 32,
     "metadata": {},
     "output_type": "execute_result"
    }
   ],
   "source": [
    "DT1 = dt.Frame(product_id = [1, 1, 1, 2, 2, 2, 3, 3, 3], \n",
    "               quantity = [11, 22, 16, 45, 65, 60, 33, 37, 39], \n",
    "               stypes={\"quantity\": dt.int64})\n",
    "DT1"
   ]
  },
  {
   "cell_type": "code",
   "execution_count": 33,
   "metadata": {},
   "outputs": [
    {
     "data": {
      "text/html": [
       "<div class='datatable'>\n",
       "  <table class='frame'>\n",
       "  <thead>\n",
       "    <tr class='colnames'><td class='row_index'></td><th>product_id</th><th>price</th></tr>\n",
       "    <tr class='coltypes'><td class='row_index'></td><td class='int' title='int8'>&#x25AA;</td><td class='int' title='int64'>&#x25AA;&#x25AA;&#x25AA;&#x25AA;&#x25AA;&#x25AA;&#x25AA;&#x25AA;</td></tr>\n",
       "  </thead>\n",
       "  <tbody>\n",
       "    <tr><td class='row_index'>0</td><td>1</td><td>1</td></tr>\n",
       "    <tr><td class='row_index'>1</td><td>2</td><td>2</td></tr>\n",
       "    <tr><td class='row_index'>2</td><td>3</td><td>3</td></tr>\n",
       "  </tbody>\n",
       "  </table>\n",
       "  <div class='footer'>\n",
       "    <div class='frame_dimensions'>3 rows &times; 2 columns</div>\n",
       "  </div>\n",
       "</div>\n"
      ],
      "text/plain": []
     },
     "execution_count": 33,
     "metadata": {},
     "output_type": "execute_result"
    }
   ],
   "source": [
    "DT2 = dt.Frame(product_id = [1, 2, 3], price = [1, 2, 3], \n",
    "               stypes={\"price\": dt.int64})\n",
    "DT2"
   ]
  },
  {
   "cell_type": "code",
   "execution_count": 34,
   "metadata": {},
   "outputs": [
    {
     "data": {
      "text/html": [
       "<div class='datatable'>\n",
       "  <table class='frame'>\n",
       "  <thead>\n",
       "    <tr class='colnames'><td class='row_index'></td><th>product_id</th><th>sales</th></tr>\n",
       "    <tr class='coltypes'><td class='row_index'></td><td class='int' title='int8'>&#x25AA;</td><td class='int' title='int64'>&#x25AA;&#x25AA;&#x25AA;&#x25AA;&#x25AA;&#x25AA;&#x25AA;&#x25AA;</td></tr>\n",
       "  </thead>\n",
       "  <tbody>\n",
       "    <tr><td class='row_index'>0</td><td>1</td><td>11</td></tr>\n",
       "    <tr><td class='row_index'>1</td><td>1</td><td>22</td></tr>\n",
       "    <tr><td class='row_index'>2</td><td>1</td><td>16</td></tr>\n",
       "    <tr><td class='row_index'>3</td><td>2</td><td>90</td></tr>\n",
       "    <tr><td class='row_index'>4</td><td>2</td><td>130</td></tr>\n",
       "    <tr><td class='row_index'>5</td><td>2</td><td>120</td></tr>\n",
       "    <tr><td class='row_index'>6</td><td>3</td><td>99</td></tr>\n",
       "    <tr><td class='row_index'>7</td><td>3</td><td>111</td></tr>\n",
       "    <tr><td class='row_index'>8</td><td>3</td><td>117</td></tr>\n",
       "  </tbody>\n",
       "  </table>\n",
       "  <div class='footer'>\n",
       "    <div class='frame_dimensions'>9 rows &times; 2 columns</div>\n",
       "  </div>\n",
       "</div>\n"
      ],
      "text/plain": []
     },
     "execution_count": 34,
     "metadata": {},
     "output_type": "execute_result"
    }
   ],
   "source": [
    "from datatable import g, join\n",
    "\n",
    "DT2.key = \"product_id\"\n",
    "DT3 = DT1[:, {\"sales\": f.quantity * g.price}, by(f.product_id), join(DT2)]\n",
    "DT3"
   ]
  },
  {
   "cell_type": "markdown",
   "metadata": {},
   "source": [
    "## Append \n",
    "\n",
    "Append rows / columns to a Frame using:\n",
    "\n",
    "~~~python\n",
    "df1.cbind(df2, df3)\n",
    "df1.rbind(df4, force = True)\n",
    "~~~"
   ]
  },
  {
   "cell_type": "code",
   "execution_count": 35,
   "metadata": {},
   "outputs": [
    {
     "data": {
      "text/html": [
       "<div class='datatable'>\n",
       "  <table class='frame'>\n",
       "  <thead>\n",
       "    <tr class='colnames'><td class='row_index'></td><th>product_id</th><th>quantity</th><th>sales</th></tr>\n",
       "    <tr class='coltypes'><td class='row_index'></td><td class='int' title='int8'>&#x25AA;</td><td class='int' title='int64'>&#x25AA;&#x25AA;&#x25AA;&#x25AA;&#x25AA;&#x25AA;&#x25AA;&#x25AA;</td><td class='int' title='int64'>&#x25AA;&#x25AA;&#x25AA;&#x25AA;&#x25AA;&#x25AA;&#x25AA;&#x25AA;</td></tr>\n",
       "  </thead>\n",
       "  <tbody>\n",
       "    <tr><td class='row_index'>0</td><td>1</td><td>11</td><td>11</td></tr>\n",
       "    <tr><td class='row_index'>1</td><td>1</td><td>22</td><td>22</td></tr>\n",
       "    <tr><td class='row_index'>2</td><td>1</td><td>16</td><td>16</td></tr>\n",
       "    <tr><td class='row_index'>3</td><td>2</td><td>45</td><td>90</td></tr>\n",
       "    <tr><td class='row_index'>4</td><td>2</td><td>65</td><td>130</td></tr>\n",
       "    <tr><td class='row_index'>5</td><td>2</td><td>60</td><td>120</td></tr>\n",
       "    <tr><td class='row_index'>6</td><td>3</td><td>33</td><td>99</td></tr>\n",
       "    <tr><td class='row_index'>7</td><td>3</td><td>37</td><td>111</td></tr>\n",
       "    <tr><td class='row_index'>8</td><td>3</td><td>39</td><td>117</td></tr>\n",
       "  </tbody>\n",
       "  </table>\n",
       "  <div class='footer'>\n",
       "    <div class='frame_dimensions'>9 rows &times; 3 columns</div>\n",
       "  </div>\n",
       "</div>\n"
      ],
      "text/plain": []
     },
     "execution_count": 35,
     "metadata": {},
     "output_type": "execute_result"
    }
   ],
   "source": [
    "DT1.cbind(DT3[:,\"sales\"])\n",
    "DT1"
   ]
  },
  {
   "cell_type": "code",
   "execution_count": 36,
   "metadata": {},
   "outputs": [
    {
     "data": {
      "text/html": [
       "<div class='datatable'>\n",
       "  <table class='frame'>\n",
       "  <thead>\n",
       "    <tr class='colnames'><td class='row_index'></td><th>product_id</th><th>quantity</th><th>sales</th><th>A</th><th>B</th><th>C</th><th>Z</th></tr>\n",
       "    <tr class='coltypes'><td class='row_index'></td><td class='int' title='int8'>&#x25AA;</td><td class='int' title='int64'>&#x25AA;&#x25AA;&#x25AA;&#x25AA;&#x25AA;&#x25AA;&#x25AA;&#x25AA;</td><td class='int' title='int64'>&#x25AA;&#x25AA;&#x25AA;&#x25AA;&#x25AA;&#x25AA;&#x25AA;&#x25AA;</td><td class='int' title='int64'>&#x25AA;&#x25AA;&#x25AA;&#x25AA;&#x25AA;&#x25AA;&#x25AA;&#x25AA;</td><td class='real' title='float64'>&#x25AA;&#x25AA;&#x25AA;&#x25AA;&#x25AA;&#x25AA;&#x25AA;&#x25AA;</td><td class='str' title='str32'>&#x25AA;&#x25AA;&#x25AA;&#x25AA;</td><td class='int' title='int8'>&#x25AA;</td></tr>\n",
       "  </thead>\n",
       "  <tbody>\n",
       "    <tr><td class='row_index'>0</td><td>1</td><td>11</td><td>11</td><td><span class=na>NA</span></td><td><span class=na>NA</span></td><td><span class=na>NA</span></td><td><span class=na>NA</span></td></tr>\n",
       "    <tr><td class='row_index'>1</td><td>1</td><td>22</td><td>22</td><td><span class=na>NA</span></td><td><span class=na>NA</span></td><td><span class=na>NA</span></td><td><span class=na>NA</span></td></tr>\n",
       "    <tr><td class='row_index'>2</td><td>1</td><td>16</td><td>16</td><td><span class=na>NA</span></td><td><span class=na>NA</span></td><td><span class=na>NA</span></td><td><span class=na>NA</span></td></tr>\n",
       "    <tr><td class='row_index'>3</td><td>2</td><td>45</td><td>90</td><td><span class=na>NA</span></td><td><span class=na>NA</span></td><td><span class=na>NA</span></td><td><span class=na>NA</span></td></tr>\n",
       "    <tr><td class='row_index'>4</td><td>2</td><td>65</td><td>130</td><td><span class=na>NA</span></td><td><span class=na>NA</span></td><td><span class=na>NA</span></td><td><span class=na>NA</span></td></tr>\n",
       "    <tr><td class='row_index'>5</td><td>2</td><td>60</td><td>120</td><td><span class=na>NA</span></td><td><span class=na>NA</span></td><td><span class=na>NA</span></td><td><span class=na>NA</span></td></tr>\n",
       "    <tr><td class='row_index'>6</td><td>3</td><td>33</td><td>99</td><td><span class=na>NA</span></td><td><span class=na>NA</span></td><td><span class=na>NA</span></td><td><span class=na>NA</span></td></tr>\n",
       "    <tr><td class='row_index'>7</td><td>3</td><td>37</td><td>111</td><td><span class=na>NA</span></td><td><span class=na>NA</span></td><td><span class=na>NA</span></td><td><span class=na>NA</span></td></tr>\n",
       "    <tr><td class='row_index'>8</td><td>3</td><td>39</td><td>117</td><td><span class=na>NA</span></td><td><span class=na>NA</span></td><td><span class=na>NA</span></td><td><span class=na>NA</span></td></tr>\n",
       "    <tr><td class='row_index'>9</td><td><span class=na>NA</span></td><td><span class=na>NA</span></td><td><span class=na>NA</span></td><td>0</td><td>1.7</td><td>two</td><td><span class=na>NA</span></td></tr>\n",
       "    <tr><td class='row_index'>10</td><td><span class=na>NA</span></td><td><span class=na>NA</span></td><td><span class=na>NA</span></td><td>1</td><td>3.4</td><td>one</td><td>55</td></tr>\n",
       "    <tr><td class='row_index'>11</td><td><span class=na>NA</span></td><td><span class=na>NA</span></td><td><span class=na>NA</span></td><td>2</td><td>0</td><td>one</td><td>55</td></tr>\n",
       "    <tr><td class='row_index'>12</td><td><span class=na>NA</span></td><td><span class=na>NA</span></td><td><span class=na>NA</span></td><td>3</td><td><span class=na>NA</span></td><td>two</td><td><span class=na>NA</span></td></tr>\n",
       "    <tr><td class='row_index'>13</td><td><span class=na>NA</span></td><td><span class=na>NA</span></td><td><span class=na>NA</span></td><td>4</td><td>&minus;inf</td><td>two</td><td><span class=na>NA</span></td></tr>\n",
       "  </tbody>\n",
       "  </table>\n",
       "  <div class='footer'>\n",
       "    <div class='frame_dimensions'>14 rows &times; 7 columns</div>\n",
       "  </div>\n",
       "</div>\n"
      ],
      "text/plain": []
     },
     "execution_count": 36,
     "metadata": {},
     "output_type": "execute_result"
    }
   ],
   "source": [
    "DT1.rbind(DT, force = True)\n",
    "DT1"
   ]
  }
 ],
 "metadata": {
  "kernelspec": {
   "display_name": "Python 3",
   "language": "python",
   "name": "python3"
  },
  "language_info": {
   "codemirror_mode": {
    "name": "ipython",
    "version": 3
   },
   "file_extension": ".py",
   "mimetype": "text/x-python",
   "name": "python",
   "nbconvert_exporter": "python",
   "pygments_lexer": "",
   "version": "3.7.2"
  }
 },
 "nbformat": 4,
 "nbformat_minor": 2
}
